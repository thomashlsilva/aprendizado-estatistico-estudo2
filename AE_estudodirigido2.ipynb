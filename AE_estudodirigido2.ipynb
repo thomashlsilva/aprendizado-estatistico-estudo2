{
 "cells": [
  {
   "cell_type": "markdown",
   "id": "d9a6e1f6-93d5-4e94-82d0-3629cebc67b9",
   "metadata": {},
   "source": [
    "## Disciplina: Aprendizado Estatístico\n",
    "\n",
    "### Estudo Dirigido 2\n",
    "\n",
    "- Conforme discutido em aula, há muitas maneiras de selecionar o modelo. Veremos métodos de seleção forward e backward utilizando o AIC.\n",
    "---\n",
    "#### Exercício 1: Tratamento dos dados\n",
    "\n",
    "- Vamos carregar os dados da temporada da Major League Baseball de 2011."
   ]
  },
  {
   "cell_type": "code",
   "execution_count": 1,
   "id": "6deb5644-8621-4bf0-97e2-a5ceb2149a9e",
   "metadata": {},
   "outputs": [
    {
     "name": "stdout",
     "output_type": "stream",
     "text": [
      "'data.frame':\t30 obs. of  12 variables:\n",
      " $ team        : Factor w/ 30 levels \"Arizona Diamondbacks\",..: 28 4 10 13 26 18 19 16 9 12 ...\n",
      " $ runs        : int  855 875 787 730 762 718 867 721 735 615 ...\n",
      " $ at_bats     : int  5659 5710 5563 5672 5532 5600 5518 5447 5544 5598 ...\n",
      " $ hits        : int  1599 1600 1540 1560 1513 1477 1452 1422 1429 1442 ...\n",
      " $ homeruns    : int  210 203 169 129 162 108 222 185 163 95 ...\n",
      " $ bat_avg     : num  0.283 0.28 0.277 0.275 0.273 0.264 0.263 0.261 0.258 0.258 ...\n",
      " $ strikeouts  : int  930 1108 1143 1006 978 1085 1138 1083 1201 1164 ...\n",
      " $ stolen_bases: int  143 102 49 153 57 130 147 94 118 118 ...\n",
      " $ wins        : int  96 90 95 71 90 77 97 96 73 56 ...\n",
      " $ new_onbase  : num  0.34 0.349 0.34 0.329 0.341 0.335 0.343 0.325 0.329 0.311 ...\n",
      " $ new_slug    : num  0.46 0.461 0.434 0.415 0.425 0.391 0.444 0.425 0.41 0.374 ...\n",
      " $ new_obs     : num  0.8 0.81 0.773 0.744 0.766 0.725 0.788 0.75 0.739 0.684 ...\n"
     ]
    }
   ],
   "source": [
    "# Baixar e carregar os dados\n",
    "download.file(\"http://www.openintro.org/stat/data/mlb11.RData\", destfile = \"mlb11.RData\")\n",
    "load(\"mlb11.RData\")\n",
    "\n",
    "# Visualizar os dados\n",
    "str(mlb11)"
   ]
  },
  {
   "cell_type": "markdown",
   "id": "a0d99a5b-a668-4371-b9f7-46fd6a6324d6",
   "metadata": {},
   "source": [
    "- Além das runs marcados, há sete variáveis tradicionalmente usadas no conjunto de dados: at-bats, hits, home runs, batting average, strikeouts, stolen bases, e wins. Existem também três variáveis menos tradicionais: on-base percentage, slugging percentage, e on-base plus slugging. Para a primeira parte da análise consideraremos as sete variáveis tradicionais. No final deste estudo dirigido , você terá trabalhará sozinho com as variáveis mais recentes. Também gostarı́amos de modificar os dados para facilitar o trabalho durante a seleção do modelo. Removemos a variável \"team\"do conjunto de dados e armazenamos a versão atualizada em \"mlb11_wins\"."
   ]
  },
  {
   "cell_type": "code",
   "execution_count": 3,
   "id": "5d5f80cc-151d-44cb-ab30-88ff578e7af5",
   "metadata": {},
   "outputs": [],
   "source": [
    "# Remover a coluna 'team' (1ª coluna)\n",
    "mlb11_wins <- mlb11[ , -1]"
   ]
  },
  {
   "cell_type": "markdown",
   "id": "77e0c21b-d54b-40c8-a1d6-c1c39d7fb577",
   "metadata": {},
   "source": [
    "- Como as vitórias não são uma estatı́stica de nı́vel de jogador ( pelo menos para não-arremessadores) não queremos usá-la ao prever runs. Portanto, criaremos outro conjunto de dados modificado para utilizar ao tentar encontrar o melhor modelo para prever o número total de (runs )corridas de uma equipe durante uma temporada."
   ]
  },
  {
   "cell_type": "code",
   "execution_count": 4,
   "id": "0f1b6a0e-3953-47f5-bf6e-ad3f9418160f",
   "metadata": {},
   "outputs": [],
   "source": [
    "# Criar conjunto para análise de \"runs\"\n",
    "mlb11_runs <- mlb11_wins[ , -8]  # Remover a coluna 'wins'"
   ]
  },
  {
   "cell_type": "markdown",
   "id": "8d810308-ab76-47e4-8b4f-1a61af9554f4",
   "metadata": {},
   "source": [
    "#### Exercício 2: Previsão de execuções com seleção retroativa (Backward):"
   ]
  },
  {
   "cell_type": "code",
   "execution_count": 7,
   "id": "4a0c9518-df5d-4f41-9c1a-bc75c54fea94",
   "metadata": {},
   "outputs": [
    {
     "data": {
      "text/plain": [
       "\n",
       "Call:\n",
       "lm(formula = runs ~ ., data = mlb11_runs)\n",
       "\n",
       "Residuals:\n",
       "    Min      1Q  Median      3Q     Max \n",
       "-40.062 -10.675   0.089   9.404  28.293 \n",
       "\n",
       "Coefficients:\n",
       "               Estimate Std. Error t value Pr(>|t|)  \n",
       "(Intercept)   2.448e+03  2.775e+03   0.882   0.3882  \n",
       "at_bats      -5.565e-01  4.975e-01  -1.118   0.2766  \n",
       "hits          2.578e+00  1.934e+00   1.333   0.1975  \n",
       "homeruns      3.937e-01  4.537e-01   0.868   0.3957  \n",
       "bat_avg      -1.506e+04  1.081e+04  -1.393   0.1790  \n",
       "strikeouts   -2.835e-02  4.828e-02  -0.587   0.5637  \n",
       "stolen_bases  3.209e-01  1.343e-01   2.389   0.0269 *\n",
       "new_onbase   -3.551e+03  6.888e+03  -0.515   0.6119  \n",
       "new_slug     -6.049e+03  6.947e+03  -0.871   0.3942  \n",
       "new_obs       6.972e+03  6.850e+03   1.018   0.3209  \n",
       "---\n",
       "Signif. codes:  0 ‘***’ 0.001 ‘**’ 0.01 ‘*’ 0.05 ‘.’ 0.1 ‘ ’ 1\n",
       "\n",
       "Residual standard error: 19.1 on 20 degrees of freedom\n",
       "Multiple R-squared:  0.963,\tAdjusted R-squared:  0.9464 \n",
       "F-statistic: 57.86 on 9 and 20 DF,  p-value: 2.327e-12\n"
      ]
     },
     "metadata": {},
     "output_type": "display_data"
    }
   ],
   "source": [
    "# Modelo completo para prever 'runs'\n",
    "runs_full <- lm(runs ~ ., data = mlb11_runs)\n",
    "summary(runs_full)"
   ]
  },
  {
   "cell_type": "markdown",
   "id": "3f559022-3530-41c6-ae21-d74ee8f6f9cd",
   "metadata": {},
   "source": [
    "- Agora que temos um modelo completo definido, podemos proceder à seleção reversa do modelo. A função step() em R torna extremamente fácil o uso do AIC (Critério de Informação de Akiake) para seleção de modelo. AIC aplica uma penalidade aos modelos que usam mais variáveis preditoras. Execute o código a seguir para determinar o melhor modelo para prever as corridas de uma equipe em uma temporada usando seleção retroativa com AIC como critério (observe que um AIC mais baixo indica um modelo melhor)."
   ]
  },
  {
   "cell_type": "code",
   "execution_count": 8,
   "id": "b4b946dc-f32d-4f7c-8cfc-f378536ce96d",
   "metadata": {},
   "outputs": [
    {
     "name": "stdout",
     "output_type": "stream",
     "text": [
      "Start:  AIC=184.82\n",
      "runs ~ at_bats + hits + homeruns + bat_avg + strikeouts + stolen_bases + \n",
      "    new_onbase + new_slug + new_obs\n",
      "\n",
      "               Df Sum of Sq    RSS    AIC\n",
      "- new_onbase    1     96.94 7394.1 183.22\n",
      "- strikeouts    1    125.80 7423.0 183.33\n",
      "- homeruns      1    274.82 7572.0 183.93\n",
      "- new_slug      1    276.65 7573.8 183.94\n",
      "- new_obs       1    377.98 7675.1 184.34\n",
      "- at_bats       1    456.40 7753.6 184.64\n",
      "<none>                      7297.2 184.82\n",
      "- hits          1    648.26 7945.4 185.38\n",
      "- bat_avg       1    707.75 8004.9 185.60\n",
      "- stolen_bases  1   2081.88 9379.0 190.35\n",
      "\n",
      "Step:  AIC=183.22\n",
      "runs ~ at_bats + hits + homeruns + bat_avg + strikeouts + stolen_bases + \n",
      "    new_slug + new_obs\n",
      "\n",
      "               Df Sum of Sq     RSS    AIC\n",
      "- strikeouts    1     140.1  7534.2 181.78\n",
      "- homeruns      1     311.1  7705.2 182.45\n",
      "<none>                       7394.1 183.22\n",
      "- at_bats       1     593.0  7987.1 183.53\n",
      "- hits          1     803.8  8197.9 184.31\n",
      "- bat_avg       1     882.2  8276.3 184.60\n",
      "- new_slug      1    1521.2  8915.3 186.83\n",
      "- stolen_bases  1    2170.0  9564.1 188.94\n",
      "- new_obs       1    8796.5 16190.5 204.73\n",
      "\n",
      "Step:  AIC=181.78\n",
      "runs ~ at_bats + hits + homeruns + bat_avg + stolen_bases + new_slug + \n",
      "    new_obs\n",
      "\n",
      "               Df Sum of Sq     RSS    AIC\n",
      "- homeruns      1     418.9  7953.1 181.40\n",
      "- at_bats       1     481.2  8015.4 181.64\n",
      "<none>                       7534.2 181.78\n",
      "- hits          1     677.0  8211.2 182.36\n",
      "- bat_avg       1     743.9  8278.1 182.60\n",
      "- new_slug      1    1628.7  9162.9 185.65\n",
      "- stolen_bases  1    2282.7  9816.8 187.72\n",
      "- new_obs       1    8656.4 16190.5 202.73\n",
      "\n",
      "Step:  AIC=181.4\n",
      "runs ~ at_bats + hits + bat_avg + stolen_bases + new_slug + new_obs\n",
      "\n",
      "               Df Sum of Sq     RSS    AIC\n",
      "- at_bats       1     283.8  8236.9 180.46\n",
      "- hits          1     459.2  8412.3 181.09\n",
      "<none>                       7953.1 181.40\n",
      "- bat_avg       1     591.4  8544.5 181.56\n",
      "- new_slug      1    1324.1  9277.2 184.02\n",
      "- stolen_bases  1    1864.5  9817.6 185.72\n",
      "- new_obs       1    8516.1 16469.2 201.24\n",
      "\n",
      "Step:  AIC=180.46\n",
      "runs ~ hits + bat_avg + stolen_bases + new_slug + new_obs\n",
      "\n",
      "               Df Sum of Sq     RSS    AIC\n",
      "<none>                       8236.9 180.46\n",
      "- hits          1     925.4  9162.4 181.65\n",
      "- new_slug      1    1220.0  9456.9 182.60\n",
      "- bat_avg       1    1387.7  9624.6 183.13\n",
      "- stolen_bases  1    1808.0 10044.9 184.41\n",
      "- new_obs       1    8324.6 16561.5 199.41\n"
     ]
    },
    {
     "data": {
      "text/plain": [
       "\n",
       "Call:\n",
       "lm(formula = runs ~ hits + bat_avg + stolen_bases + new_slug + \n",
       "    new_obs, data = mlb11_runs)\n",
       "\n",
       "Residuals:\n",
       "    Min      1Q  Median      3Q     Max \n",
       "-47.974 -10.020  -2.483  14.455  35.314 \n",
       "\n",
       "Coefficients:\n",
       "               Estimate Std. Error t value Pr(>|t|)    \n",
       "(Intercept)   -685.4474   116.3816  -5.890 4.47e-06 ***\n",
       "hits             0.4367     0.2659   1.642   0.1136    \n",
       "bat_avg      -3986.8871  1982.7086  -2.011   0.0557 .  \n",
       "stolen_bases     0.2704     0.1178   2.295   0.0308 *  \n",
       "new_slug     -1606.1502   851.8902  -1.885   0.0715 .  \n",
       "new_obs       3325.3137   675.1944   4.925 5.03e-05 ***\n",
       "---\n",
       "Signif. codes:  0 ‘***’ 0.001 ‘**’ 0.01 ‘*’ 0.05 ‘.’ 0.1 ‘ ’ 1\n",
       "\n",
       "Residual standard error: 18.53 on 24 degrees of freedom\n",
       "Multiple R-squared:  0.9582,\tAdjusted R-squared:  0.9495 \n",
       "F-statistic: 110.2 on 5 and 24 DF,  p-value: 9.595e-16\n"
      ]
     },
     "metadata": {},
     "output_type": "display_data"
    }
   ],
   "source": [
    "# Seleção backward usando AIC\n",
    "runs_backAIC <- step(runs_full, direction = \"backward\")\n",
    "summary(runs_backAIC)"
   ]
  },
  {
   "cell_type": "markdown",
   "id": "24fcfd76-ecb4-47e3-bdfc-5cd24d2ec2e1",
   "metadata": {},
   "source": [
    "O modelo final inclui as variáveis hits, bat_avg, stolen_bases, new_slug, e new_obs, e não houve mais\n",
    "remoções. O AIC final é igual a 180.46. Com isso, parte-se para as respostas de cada uma das seis perguntas:\n",
    "\n",
    "1) Quantas etapas a seleção retroativa usando AIC conduziu antes de selecionar um modelo?**\n",
    "\n",
    "Foram realizadas quatro etapas antes de chegar ao modelo final.\n",
    "\n",
    "2) Qual variável foi a primeira a ser removida?\n",
    "\n",
    "A variável new_onbase foi a primeira a ser removida.\n",
    "\n",
    "3) Quais variáveis acabaram no modelo final?\n",
    "\n",
    "As variáveis no modelo final são hits, bat_avg, stolen_bases, new_slug, e new_obs.\n",
    "\n",
    "4) Quantos parâmetros estão sendo estimados neste modelo final?\n",
    "\n",
    "Há cinco parâmetros (um para cada variável preditora), além da interceptação (ou intercepto). Portanto, seis parâmetros no total.\n",
    "\n",
    "5) Quantos dos parâmetros neste modelo final são significativamente diferentes de 0 no nı́vel 0.05?\n",
    "\n",
    "Os p-valores indicam a probabilidade de observar um valor do coeficiente tão extremo quanto o observado, assumindo que a hipótese nula de que o coeficiente é igual a zero seja verdadeira. Portanto, p-valores menores que o nível de significância escolhido (neste caso, 0.05) são considerados estatisticamente significativos. Os coeficientes para interceptação, stolen_bases, new_obs têm p-valor abaixo de 0.05, indicando significância estatística. Os outros coeficientes não são estatisticamente significativos a um nível de 0.05. Todos os mencionados neste parágrafo são diferentes de 0.\n",
    "\n",
    "6) Este modelo final tem melhor AIC do que o modelo completo para execuções?\n",
    "\n",
    "Sim, o AIC final de 180.46 é menor do que o AIC do modelo completo igual a 184.82, indicando que o modelo final tem um ajuste melhor de acordo com o critério AIC."
   ]
  },
  {
   "cell_type": "markdown",
   "id": "53a7dbf6-8166-4086-9739-8654c85b6e50",
   "metadata": {},
   "source": [
    "#### Exercício 3: Previsão de execuções com seleção direta (Forward)\n",
    "\n",
    "- O primeiro passo forward é configurar um modelo nulo/base a partir do qual construir. Este modelo poderia incluir variáveis que os pesquisadores estipulam que um modelo deve ter por razões teóricas. Essas variáveis não existem em nosso caso, o que significa que nosso modelo nulo terá apenas a interceptação. Também devemos especificar o modelo completo para que o procedimento saiba quais modelos tentar. Observe que o modelo completo será igual ao da seleção retroativa."
   ]
  },
  {
   "cell_type": "code",
   "execution_count": 11,
   "id": "d98a750a-ed23-454d-99c6-4f194cdbb597",
   "metadata": {},
   "outputs": [
    {
     "data": {
      "text/plain": [
       "\n",
       "Call:\n",
       "lm(formula = runs ~ 1, data = mlb11_runs)\n",
       "\n",
       "Residuals:\n",
       "   Min     1Q Median     3Q    Max \n",
       "-137.6  -64.6   11.9   40.4  181.4 \n",
       "\n",
       "Coefficients:\n",
       "            Estimate Std. Error t value Pr(>|t|)    \n",
       "(Intercept)   693.60      15.06   46.06   <2e-16 ***\n",
       "---\n",
       "Signif. codes:  0 ‘***’ 0.001 ‘**’ 0.01 ‘*’ 0.05 ‘.’ 0.1 ‘ ’ 1\n",
       "\n",
       "Residual standard error: 82.48 on 29 degrees of freedom\n"
      ]
     },
     "metadata": {},
     "output_type": "display_data"
    }
   ],
   "source": [
    "# Modelo nulo\n",
    "runs_null <- lm(runs ~ 1, data = mlb11_runs)\n",
    "summary(runs_null)"
   ]
  },
  {
   "cell_type": "markdown",
   "id": "597e6218-e3ba-4cd5-a3e2-13970bab958e",
   "metadata": {},
   "source": [
    "- Agora que temos um modelo nulo definido, podemos proceder à seleção direta do modelo. Mais uma vez usaremos a função step() em R para usar AIC (Critério de Informação de Akiake) para seleção de modelo - lembre-se de que AIC mais baixo indica um modelo melhor."
   ]
  },
  {
   "cell_type": "code",
   "execution_count": 12,
   "id": "85eb338c-d233-4408-880b-e629aa34bc21",
   "metadata": {},
   "outputs": [
    {
     "name": "stdout",
     "output_type": "stream",
     "text": [
      "Start:  AIC=265.74\n",
      "runs ~ 1\n",
      "\n",
      "               Df Sum of Sq    RSS    AIC\n",
      "+ new_obs       1    184444  12838 185.77\n",
      "+ new_slug      1    176936  20346 199.58\n",
      "+ new_onbase    1    167513  29769 211.00\n",
      "+ bat_avg       1    129432  67850 235.72\n",
      "+ hits          1    126642  70639 236.92\n",
      "+ homeruns      1    123609  73672 238.19\n",
      "+ at_bats       1     73559 123722 253.74\n",
      "+ strikeouts    1     33411 163870 262.17\n",
      "<none>                      197281 265.74\n",
      "+ stolen_bases  1       575 196706 267.65\n",
      "\n",
      "Step:  AIC=185.77\n",
      "runs ~ new_obs\n",
      "\n",
      "               Df Sum of Sq   RSS    AIC\n",
      "+ stolen_bases  1   2563.86 10274 181.09\n",
      "<none>                      12838 185.77\n",
      "+ bat_avg       1    642.46 12195 186.23\n",
      "+ new_slug      1    526.05 12312 186.51\n",
      "+ new_onbase    1    374.87 12463 186.88\n",
      "+ hits          1    329.49 12508 186.99\n",
      "+ strikeouts    1     77.46 12760 187.59\n",
      "+ homeruns      1     34.21 12803 187.69\n",
      "+ at_bats       1      3.97 12834 187.76\n",
      "\n",
      "Step:  AIC=181.08\n",
      "runs ~ new_obs + stolen_bases\n",
      "\n",
      "             Df Sum of Sq     RSS    AIC\n",
      "<none>                    10273.8 181.09\n",
      "+ new_slug    1    351.95  9921.8 182.04\n",
      "+ bat_avg     1    340.32  9933.5 182.07\n",
      "+ new_onbase  1    249.80 10024.0 182.35\n",
      "+ homeruns    1    138.03 10135.8 182.68\n",
      "+ hits        1    124.23 10149.6 182.72\n",
      "+ at_bats     1     42.20 10231.6 182.96\n",
      "+ strikeouts  1     29.22 10244.6 183.00\n"
     ]
    },
    {
     "data": {
      "text/plain": [
       "\n",
       "Call:\n",
       "lm(formula = runs ~ new_obs + stolen_bases, data = mlb11_runs)\n",
       "\n",
       "Residuals:\n",
       "    Min      1Q  Median      3Q     Max \n",
       "-38.762 -13.146   0.160   9.837  33.519 \n",
       "\n",
       "Coefficients:\n",
       "              Estimate Std. Error t value Pr(>|t|)    \n",
       "(Intercept)  -731.1710    65.0951 -11.232 1.11e-11 ***\n",
       "new_obs      1933.3858    87.3456  22.135  < 2e-16 ***\n",
       "stolen_bases    0.3154     0.1215   2.596   0.0151 *  \n",
       "---\n",
       "Signif. codes:  0 ‘***’ 0.001 ‘**’ 0.01 ‘*’ 0.05 ‘.’ 0.1 ‘ ’ 1\n",
       "\n",
       "Residual standard error: 19.51 on 27 degrees of freedom\n",
       "Multiple R-squared:  0.9479,\tAdjusted R-squared:  0.9441 \n",
       "F-statistic: 245.7 on 2 and 27 DF,  p-value: < 2.2e-16\n"
      ]
     },
     "metadata": {},
     "output_type": "display_data"
    }
   ],
   "source": [
    "# Seleção forward\n",
    "runs_forwardAIC <- step(runs_null, direction = \"forward\", scope = formula(runs_full))\n",
    "summary(runs_forwardAIC)"
   ]
  },
  {
   "cell_type": "markdown",
   "id": "394d2017-3474-4810-8ced-a7745eee79bf",
   "metadata": {},
   "source": [
    "- Usando todas as variáveis disponı́veis em nosso conjunto de dados, conduza a seleção retroativa usando AIC para selecionar o melhor modelo para prever vitórias (wins) de uma equipe em uma única temporada. Dicas: certifique-se de usar o conjunto de dados \"mlb11_wins\"."
   ]
  },
  {
   "cell_type": "code",
   "execution_count": 13,
   "id": "8dc4c832-601c-4452-a45c-3f0e9fd856f0",
   "metadata": {},
   "outputs": [
    {
     "data": {
      "text/plain": [
       "\n",
       "Call:\n",
       "lm(formula = wins ~ 1, data = mlb11_wins)\n",
       "\n",
       "Residuals:\n",
       "     Min       1Q   Median       3Q      Max \n",
       "-24.9667  -8.9667  -0.9667   9.0333  21.0333 \n",
       "\n",
       "Coefficients:\n",
       "            Estimate Std. Error t value Pr(>|t|)    \n",
       "(Intercept)   80.967      2.084   38.85   <2e-16 ***\n",
       "---\n",
       "Signif. codes:  0 ‘***’ 0.001 ‘**’ 0.01 ‘*’ 0.05 ‘.’ 0.1 ‘ ’ 1\n",
       "\n",
       "Residual standard error: 11.42 on 29 degrees of freedom\n"
      ]
     },
     "metadata": {},
     "output_type": "display_data"
    },
    {
     "name": "stdout",
     "output_type": "stream",
     "text": [
      "Start:  AIC=147.08\n",
      "wins ~ 1\n",
      "\n",
      "               Df Sum of Sq    RSS    AIC\n",
      "+ homeruns      1   1649.18 2129.8 131.88\n",
      "+ new_slug      1   1425.43 2353.5 134.87\n",
      "+ new_obs       1   1415.74 2363.2 135.00\n",
      "+ runs          1   1364.10 2414.9 135.65\n",
      "+ new_onbase    1   1152.63 2626.3 138.16\n",
      "+ bat_avg       1    465.02 3313.9 145.14\n",
      "+ hits          1    334.82 3444.1 146.30\n",
      "+ strikeouts    1    297.81 3481.2 146.62\n",
      "<none>                      3779.0 147.08\n",
      "+ stolen_bases  1     15.77 3763.2 148.96\n",
      "+ at_bats       1     14.60 3764.4 148.96\n",
      "\n",
      "Step:  AIC=131.88\n",
      "wins ~ homeruns\n",
      "\n",
      "               Df Sum of Sq    RSS    AIC\n",
      "+ at_bats       1   153.276 1976.5 131.64\n",
      "<none>                      2129.8 131.88\n",
      "+ new_onbase    1   128.339 2001.5 132.01\n",
      "+ strikeouts    1   109.761 2020.0 132.29\n",
      "+ new_obs       1    64.573 2065.2 132.95\n",
      "+ runs          1    61.401 2068.4 133.00\n",
      "+ new_slug      1    28.850 2100.9 133.47\n",
      "+ bat_avg       1     7.508 2122.3 133.77\n",
      "+ hits          1     0.870 2128.9 133.87\n",
      "+ stolen_bases  1     0.639 2129.2 133.87\n",
      "\n",
      "Step:  AIC=131.64\n",
      "wins ~ homeruns + at_bats\n",
      "\n",
      "               Df Sum of Sq    RSS    AIC\n",
      "+ new_onbase    1    411.26 1565.2 126.64\n",
      "+ new_obs       1    367.10 1609.4 127.47\n",
      "+ strikeouts    1    312.19 1664.3 128.48\n",
      "+ runs          1    309.68 1666.8 128.52\n",
      "+ new_slug      1    288.57 1687.9 128.90\n",
      "+ bat_avg       1    264.50 1712.0 129.33\n",
      "+ hits          1    257.06 1719.5 129.46\n",
      "<none>                      1976.5 131.64\n",
      "+ stolen_bases  1      0.00 1976.5 133.64\n",
      "\n",
      "Step:  AIC=126.64\n",
      "wins ~ homeruns + at_bats + new_onbase\n",
      "\n",
      "               Df Sum of Sq    RSS    AIC\n",
      "+ strikeouts    1   127.264 1438.0 126.09\n",
      "<none>                      1565.2 126.64\n",
      "+ stolen_bases  1     4.198 1561.0 128.56\n",
      "+ new_slug      1     1.524 1563.7 128.61\n",
      "+ hits          1     0.417 1564.8 128.63\n",
      "+ new_obs       1     0.266 1565.0 128.63\n",
      "+ bat_avg       1     0.147 1565.1 128.63\n",
      "+ runs          1     0.011 1565.2 128.64\n",
      "\n",
      "Step:  AIC=126.09\n",
      "wins ~ homeruns + at_bats + new_onbase + strikeouts\n",
      "\n",
      "               Df Sum of Sq    RSS    AIC\n",
      "<none>                      1438.0 126.09\n",
      "+ bat_avg       1    32.858 1405.1 127.40\n",
      "+ hits          1    31.429 1406.6 127.43\n",
      "+ stolen_bases  1     1.237 1436.8 128.07\n",
      "+ new_obs       1     1.070 1436.9 128.07\n",
      "+ runs          1     0.170 1437.8 128.09\n",
      "+ new_slug      1     0.134 1437.8 128.09\n"
     ]
    },
    {
     "data": {
      "text/plain": [
       "\n",
       "Call:\n",
       "lm(formula = wins ~ homeruns + at_bats + new_onbase + strikeouts, \n",
       "    data = mlb11_wins)\n",
       "\n",
       "Residuals:\n",
       "     Min       1Q   Median       3Q      Max \n",
       "-14.1124  -3.9547  -0.5518   2.6519  20.8810 \n",
       "\n",
       "Coefficients:\n",
       "             Estimate Std. Error t value Pr(>|t|)   \n",
       "(Intercept) 357.69334  123.61509   2.894  0.00779 **\n",
       "homeruns      0.18240    0.05126   3.558  0.00153 **\n",
       "at_bats      -0.06915    0.02274  -3.040  0.00548 **\n",
       "new_onbase  325.75679  164.22009   1.984  0.05838 . \n",
       "strikeouts   -0.02336    0.01570  -1.487  0.14940   \n",
       "---\n",
       "Signif. codes:  0 ‘***’ 0.001 ‘**’ 0.01 ‘*’ 0.05 ‘.’ 0.1 ‘ ’ 1\n",
       "\n",
       "Residual standard error: 7.584 on 25 degrees of freedom\n",
       "Multiple R-squared:  0.6195,\tAdjusted R-squared:  0.5586 \n",
       "F-statistic: 10.17 on 4 and 25 DF,  p-value: 4.971e-05\n"
      ]
     },
     "metadata": {},
     "output_type": "display_data"
    }
   ],
   "source": [
    "wins_null <- lm(wins ~ 1, data = mlb11_wins)\n",
    "summary(wins_null)\n",
    "wins_full <- lm(wins ~ ., data = mlb11_wins)\n",
    "wins_forwardAIC <- step(wins_null, direction = \"forward\", scope = formula(wins_full))\n",
    "summary(wins_forwardAIC)"
   ]
  },
  {
   "cell_type": "markdown",
   "id": "954a7b94-71ee-448b-a4c7-ce629f082755",
   "metadata": {},
   "source": [
    "- Quantas variáveis estão sendo usadas para prever vitórias no modelo completo?\n",
    "\n",
    "Há quatro variáveis sendo usadas para prever as vitórias no modelo final. Além disso, há quatro parâmetros (um para cada variável preditora), além da interceptação (ou intercepto). Portanto, cinco parâmetros no total.\n",
    "\n",
    "- Quais variáveis estão incluı́das neste modelo final?\n",
    "\n",
    "As variáveis no modelo final são homeruns, at_bats, new_onbase, e strikeouts. Os coeficientes para interceptação, homeruns e at_bats têm p-valor abaixo de 0.05, indicando significância estatística. Os outros coeficientes não são estatisticamente significativos a um nível de 0.05. Todos os mencionados neste parágrafo são diferentes de 0."
   ]
  }
 ],
 "metadata": {
  "kernelspec": {
   "display_name": "R",
   "language": "R",
   "name": "ir"
  },
  "language_info": {
   "codemirror_mode": "r",
   "file_extension": ".r",
   "mimetype": "text/x-r-source",
   "name": "R",
   "pygments_lexer": "r",
   "version": "4.1.2"
  }
 },
 "nbformat": 4,
 "nbformat_minor": 5
}
